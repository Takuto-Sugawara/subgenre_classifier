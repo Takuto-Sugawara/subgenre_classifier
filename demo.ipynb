{
 "cells": [
  {
   "cell_type": "code",
   "execution_count": 1,
   "id": "8a9c2315",
   "metadata": {},
   "outputs": [
    {
     "name": "stdout",
     "output_type": "stream",
     "text": [
      "need to develop...\n"
     ]
    }
   ],
   "source": [
    "from data import downloader\n",
    "import visualizer\n",
    "import classifier"
   ]
  },
  {
   "cell_type": "code",
   "execution_count": 2,
   "id": "22a474d1",
   "metadata": {},
   "outputs": [
    {
     "name": "stdout",
     "output_type": "stream",
     "text": [
      "Successfully entered URL: https://ncs.io/\n",
      "Driver closed.\n"
     ]
    }
   ],
   "source": [
    "url_test = \"https://takuto-sugawara.github.io/scraping_test/\"\n",
    "url = \"https://ncs.io/\"\n",
    "\n",
    "downloader = downloader.NCSDownloader(url)\n",
    "downloader.enter()\n",
    "downloader.quit()"
   ]
  }
 ],
 "metadata": {
  "kernelspec": {
   "display_name": "Python 3",
   "language": "python",
   "name": "python3"
  },
  "language_info": {
   "codemirror_mode": {
    "name": "ipython",
    "version": 3
   },
   "file_extension": ".py",
   "mimetype": "text/x-python",
   "name": "python",
   "nbconvert_exporter": "python",
   "pygments_lexer": "ipython3",
   "version": "3.12.10"
  }
 },
 "nbformat": 4,
 "nbformat_minor": 5
}
